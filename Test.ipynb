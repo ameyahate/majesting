{
  "nbformat": 4,
  "nbformat_minor": 0,
  "metadata": {
    "colab": {
      "name": "Test.ipynb",
      "provenance": [],
      "collapsed_sections": [],
      "authorship_tag": "ABX9TyPqD2rvSxaYP4OuHRQ0Kv7O",
      "include_colab_link": true
    },
    "kernelspec": {
      "name": "python3",
      "display_name": "Python 3"
    },
    "language_info": {
      "name": "python"
    }
  },
  "cells": [
    {
      "cell_type": "markdown",
      "metadata": {
        "id": "view-in-github",
        "colab_type": "text"
      },
      "source": [
        "<a href=\"https://colab.research.google.com/github/ameyahate/majesting/blob/master/Test.ipynb\" target=\"_parent\"><img src=\"https://colab.research.google.com/assets/colab-badge.svg\" alt=\"Open In Colab\"/></a>"
      ]
    },
    {
      "cell_type": "code",
      "execution_count": 1,
      "metadata": {
        "colab": {
          "base_uri": "https://localhost:8080/"
        },
        "id": "yDNZT7hqx2zz",
        "outputId": "3be3aaaa-9afa-442e-c7f7-10fc3fa48e1d"
      },
      "outputs": [
        {
          "output_type": "stream",
          "name": "stdout",
          "text": [
            "hello world\n"
          ]
        }
      ],
      "source": [
        "print(\"hello world\")"
      ]
    },
    {
      "cell_type": "markdown",
      "source": [
        "# This Heading 1\n",
        "## This is Heading 2\n",
        "### This is Heading 3\n",
        "This is a normal line with **bold** text. This is a normal line with *italics*.\n",
        "Whereas these are bullet points.\n",
        "* This text is not a quote\n",
        "* > This text is a quote\n",
        "* Point no 3"
      ],
      "metadata": {
        "id": "cp3oKoK_x_H_"
      }
    }
  ]
}